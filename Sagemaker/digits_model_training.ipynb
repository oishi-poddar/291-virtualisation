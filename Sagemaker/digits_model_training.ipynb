{
  "cells": [
    {
      "cell_type": "code",
      "execution_count": 5,
      "metadata": {
        "id": "uxENN6z9j2X_"
      },
      "outputs": [],
      "source": [
        "import pickle\n",
        "from sklearn import svm\n",
        "from sklearn.datasets import fetch_openml\n",
        "from sklearn.model_selection import train_test_split"
      ]
    },
    {
      "cell_type": "code",
      "execution_count": 3,
      "metadata": {
        "id": "2_iDbxUek_5V"
      },
      "outputs": [],
      "source": [
        "mnist = fetch_openml('mnist_784')"
      ]
    },
    {
      "cell_type": "code",
      "execution_count": 4,
      "metadata": {
        "colab": {
          "base_uri": "https://localhost:8080/"
        },
        "id": "9Km40B2RlK1a",
        "outputId": "f3a77d00-f016-4f05-af89-b4d210062263"
      },
      "outputs": [
        {
          "name": "stdout",
          "output_type": "stream",
          "text": [
            "<class 'pandas.core.frame.DataFrame'>\n",
            "<class 'pandas.core.series.Series'>\n"
          ]
        }
      ],
      "source": [
        "x, y = mnist['data'], mnist['target']\n",
        "print(type(x))\n",
        "print(type(y))"
      ]
    },
    {
      "cell_type": "code",
      "execution_count": 6,
      "metadata": {
        "colab": {
          "base_uri": "https://localhost:8080/"
        },
        "id": "b__Fn37LkB-o",
        "outputId": "68573472-1432-45e9-a6a6-88a3e2a49930"
      },
      "outputs": [
        {
          "name": "stdout",
          "output_type": "stream",
          "text": [
            "start training\n"
          ]
        }
      ],
      "source": [
        "model = svm.SVC(gamma=0.001)\n",
        "\n",
        "X_train, X_test, y_train, y_test = train_test_split(\n",
        "    x, y, test_size=0.9, shuffle=False\n",
        ")\n",
        "print(\"start training\")\n",
        "\n",
        "# Learn the digits on the train subset\n",
        "model.fit(X_train, y_train)\n",
        "\n",
        "pickle.dump(model, open('model.pkl', 'wb'))"
      ]
    }
  ],
  "metadata": {
    "colab": {
      "provenance": []
    },
    "kernelspec": {
      "display_name": "Python 3.10.8 64-bit",
      "language": "python",
      "name": "python3"
    },
    "language_info": {
      "name": "python",
      "version": "3.10.8"
    },
    "vscode": {
      "interpreter": {
        "hash": "b0fa6594d8f4cbf19f97940f81e996739fb7646882a419484c72d19e05852a7e"
      }
    }
  },
  "nbformat": 4,
  "nbformat_minor": 0
}
